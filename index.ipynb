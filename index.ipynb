{
 "cells": [
  {
   "cell_type": "markdown",
   "metadata": {},
   "source": [
    "# Building an SVM from Scratch - Lab"
   ]
  },
  {
   "cell_type": "markdown",
   "metadata": {},
   "source": [
    "## Introduction"
   ]
  },
  {
   "cell_type": "markdown",
   "metadata": {},
   "source": [
    "In this lab, you'll program a simple Support Vector Machine from scratch!"
   ]
  },
  {
   "cell_type": "markdown",
   "metadata": {},
   "source": [
    "## Objectives"
   ]
  },
  {
   "cell_type": "markdown",
   "metadata": {},
   "source": [
    "In this lab you will: \n",
    "\n",
    "- Build a simple linear max margin classifier from scratch \n",
    "- Build a simple soft margin classifier from scratch"
   ]
  },
  {
   "cell_type": "markdown",
   "metadata": {},
   "source": [
    "## The data"
   ]
  },
  {
   "cell_type": "markdown",
   "metadata": {},
   "source": [
    "Support Vector Machines can be used for any $n$-dimensional feature space. However, for this lab, you'll focus on a more limited 2-dimensional feature space so that you can easily visualize the results.\n",
    "\n",
    "Scikit-learn has an excellent set of dataset generator functions. One of them is `make_blobs()`. Below, you can find the code to create two blobs using the `make_blobs()` function. Afterward, you'll use this data to build your own SVM from scratch! "
   ]
  },
  {
   "cell_type": "code",
   "execution_count": 1,
   "metadata": {},
   "outputs": [
    {
     "data": {
      "image/png": "[encoded data removed]",
      "text/plain": [
       "<Figure size 360x360 with 1 Axes>"
      ]
     },
     "metadata": {
      "needs_background": "light"
     },
     "output_type": "display_data"
    }
   ],
   "source": [
    "from sklearn.datasets import make_blobs\n",
    "import matplotlib.pyplot as plt\n",
    "%matplotlib inline  \n",
    "import numpy as np\n",
    "\n",
    "plt.figure(figsize=(5, 5))\n",
    "\n",
    "plt.title('Two blobs')\n",
    "X, labels = make_blobs(n_features=2, centers=2, cluster_std=1.25,  random_state=123)\n",
    "plt.scatter(X[:, 0], X[:, 1], c=labels, s=25);"
   ]
  },
  {
   "cell_type": "code",
   "execution_count": 2,
   "metadata": {},
   "outputs": [
    {
     "name": "stdout",
     "output_type": "stream",
     "text": [
      "Collecting cvxpy\n",
      "  Downloading cvxpy-1.1.11.tar.gz (1.3 MB)\n",
      "\u001b[K     |████████████████████████████████| 1.3 MB 1.7 MB/s eta 0:00:01\n",
      "\u001b[?25h  Installing build dependencies ... \u001b[?25ldone\n",
      "\u001b[?25h  Getting requirements to build wheel ... \u001b[?25ldone\n",
      "\u001b[?25h    Preparing wheel metadata ... \u001b[?25ldone\n",
      "\u001b[?25hRequirement already satisfied: scipy>=1.1.0 in /opt/anaconda3/envs/learn-env/lib/python3.6/site-packages (from cvxpy) (1.5.0)\n",
      "Collecting scs>=1.1.6\n",
      "  Downloading scs-2.1.2.tar.gz (3.5 MB)\n",
      "\u001b[K     |████████████████████████████████| 3.5 MB 2.0 MB/s eta 0:00:01\n",
      "\u001b[?25hCollecting ecos>=2\n",
      "  Downloading ecos-2.0.7.post1-cp36-cp36m-macosx_10_13_x86_64.whl (71 kB)\n",
      "\u001b[K     |████████████████████████████████| 71 kB 44 kB/s  eta 0:00:01\n",
      "\u001b[?25hRequirement already satisfied: numpy>=1.15 in /opt/anaconda3/envs/learn-env/lib/python3.6/site-packages (from cvxpy) (1.19.1)\n",
      "Collecting osqp>=0.4.1\n",
      "  Downloading osqp-0.6.2.post0-cp36-cp36m-macosx_10_9_x86_64.whl (163 kB)\n",
      "\u001b[K     |████████████████████████████████| 163 kB 1.8 MB/s eta 0:00:01\n",
      "\u001b[?25hCollecting qdldl\n",
      "  Downloading qdldl-0.1.5.post0-cp36-cp36m-macosx_10_9_x86_64.whl (86 kB)\n",
      "\u001b[K     |████████████████████████████████| 86 kB 4.0 MB/s eta 0:00:01\n",
      "\u001b[?25hBuilding wheels for collected packages: cvxpy, scs\n",
      "  Building wheel for cvxpy (PEP 517) ... \u001b[?25lerror\n",
      "\u001b[31m  ERROR: Command errored out with exit status 1:\n",
      "   command: /opt/anaconda3/envs/learn-env/bin/python3.6 /opt/anaconda3/envs/learn-env/lib/python3.6/site-packages/pip/_vendor/pep517/_in_process.py build_wheel /var/folders/2q/71g07jvs3kj92z2fzw_1glp40000gn/T/tmpnwjciqjp\n",
      "       cwd: /private/var/folders/2q/71g07jvs3kj92z2fzw_1glp40000gn/T/pip-install-rs51fvvu/cvxpy\n",
      "  Complete output (424 lines):\n",
      "  running bdist_wheel\n",
      "  running build\n",
      "  running build_py\n",
      "  creating build\n",
      "  creating build/lib.macosx-10.7-x86_64-3.6\n",
      "  creating build/lib.macosx-10.7-x86_64-3.6/cvxpy\n",
      "  copying cvxpy/error.py -> build/lib.macosx-10.7-x86_64-3.6/cvxpy\n",
      "  copying cvxpy/__init__.py -> build/lib.macosx-10.7-x86_64-3.6/cvxpy\n",
      "  copying cvxpy/settings.py -> build/lib.macosx-10.7-x86_64-3.6/cvxpy\n",
      "  creating build/lib.macosx-10.7-x86_64-3.6/examples\n",
      "  copying examples/ex_5_1.py -> build/lib.macosx-10.7-x86_64-3.6/examples\n",
      "  copying examples/matrix_games_LP.py -> build/lib.macosx-10.7-x86_64-3.6/examples\n",
      "  copying examples/deadzone.py -> build/lib.macosx-10.7-x86_64-3.6/examples\n",
      "  copying examples/ex_5_33.py -> build/lib.macosx-10.7-x86_64-3.6/examples\n",
      "  copying examples/floor_packing.py -> build/lib.macosx-10.7-x86_64-3.6/examples\n",
      "  copying examples/qcqp.py -> build/lib.macosx-10.7-x86_64-3.6/examples\n",
      "  copying examples/admm_example.py -> build/lib.macosx-10.7-x86_64-3.6/examples\n",
      "  copying examples/__init__.py -> build/lib.macosx-10.7-x86_64-3.6/examples\n",
      "  copying examples/tsp_mip.py -> build/lib.macosx-10.7-x86_64-3.6/examples\n",
      "  copying examples/mpi_consensus_admm.py -> build/lib.macosx-10.7-x86_64-3.6/examples\n",
      "  copying examples/relax_and_round.py -> build/lib.macosx-10.7-x86_64-3.6/examples\n",
      "  copying examples/fig6_9.py -> build/lib.macosx-10.7-x86_64-3.6/examples\n",
      "  copying examples/admm_svm_pool.py -> build/lib.macosx-10.7-x86_64-3.6/examples\n",
      "  copying examples/chebyshev.py -> build/lib.macosx-10.7-x86_64-3.6/examples\n",
      "  copying examples/penalty_comp_cvx.py -> build/lib.macosx-10.7-x86_64-3.6/examples\n",
      "  copying examples/fmmc.py -> build/lib.macosx-10.7-x86_64-3.6/examples\n",
      "  copying examples/sdp.py -> build/lib.macosx-10.7-x86_64-3.6/examples\n",
      "  copying examples/branch_and_bound.py -> build/lib.macosx-10.7-x86_64-3.6/examples\n",
      "  copying examples/lasso.py -> build/lib.macosx-10.7-x86_64-3.6/examples\n",
      "  copying examples/norm_approx.py -> build/lib.macosx-10.7-x86_64-3.6/examples\n",
      "  copying examples/ex_4_3.py -> build/lib.macosx-10.7-x86_64-3.6/examples\n",
      "  copying examples/consensus_admm.py -> build/lib.macosx-10.7-x86_64-3.6/examples\n",
      "  copying examples/admm_svm_procs.py -> build/lib.macosx-10.7-x86_64-3.6/examples\n",
      "  copying examples/admm_lasso.py -> build/lib.macosx-10.7-x86_64-3.6/examples\n",
      "  creating build/lib.macosx-10.7-x86_64-3.6/cvxpy/interface\n",
      "  copying cvxpy/interface/base_matrix_interface.py -> build/lib.macosx-10.7-x86_64-3.6/cvxpy/interface\n",
      "  copying cvxpy/interface/__init__.py -> build/lib.macosx-10.7-x86_64-3.6/cvxpy/interface\n",
      "  copying cvxpy/interface/scipy_wrapper.py -> build/lib.macosx-10.7-x86_64-3.6/cvxpy/interface\n",
      "  copying cvxpy/interface/matrix_utilities.py -> build/lib.macosx-10.7-x86_64-3.6/cvxpy/interface\n",
      "  creating build/lib.macosx-10.7-x86_64-3.6/cvxpy/atoms\n",
      "  copying cvxpy/atoms/max.py -> build/lib.macosx-10.7-x86_64-3.6/cvxpy/atoms\n",
      "  copying cvxpy/atoms/cummax.py -> build/lib.macosx-10.7-x86_64-3.6/cvxpy/atoms\n",
      "  copying cvxpy/atoms/matrix_frac.py -> build/lib.macosx-10.7-x86_64-3.6/cvxpy/atoms\n",
      "  copying cvxpy/atoms/lambda_max.py -> build/lib.macosx-10.7-x86_64-3.6/cvxpy/atoms\n",
      "  copying cvxpy/atoms/sigma_max.py -> build/lib.macosx-10.7-x86_64-3.6/cvxpy/atoms\n",
      "  copying cvxpy/atoms/total_variation.py -> build/lib.macosx-10.7-x86_64-3.6/cvxpy/atoms\n",
      "  copying cvxpy/atoms/eye_minus_inv.py -> build/lib.macosx-10.7-x86_64-3.6/cvxpy/atoms\n",
      "  copying cvxpy/atoms/length.py -> build/lib.macosx-10.7-x86_64-3.6/cvxpy/atoms\n",
      "  copying cvxpy/atoms/sum_smallest.py -> build/lib.macosx-10.7-x86_64-3.6/cvxpy/atoms\n",
      "  copying cvxpy/atoms/norm1.py -> build/lib.macosx-10.7-x86_64-3.6/cvxpy/atoms\n",
      "  copying cvxpy/atoms/lambda_sum_smallest.py -> build/lib.macosx-10.7-x86_64-3.6/cvxpy/atoms\n",
      "  copying cvxpy/atoms/norm.py -> build/lib.macosx-10.7-x86_64-3.6/cvxpy/atoms\n",
      "  copying cvxpy/atoms/pf_eigenvalue.py -> build/lib.macosx-10.7-x86_64-3.6/cvxpy/atoms\n",
      "  copying cvxpy/atoms/pnorm.py -> build/lib.macosx-10.7-x86_64-3.6/cvxpy/atoms\n",
      "  copying cvxpy/atoms/__init__.py -> build/lib.macosx-10.7-x86_64-3.6/cvxpy/atoms\n",
      "  copying cvxpy/atoms/sum_largest.py -> build/lib.macosx-10.7-x86_64-3.6/cvxpy/atoms\n",
      "  copying cvxpy/atoms/lambda_sum_largest.py -> build/lib.macosx-10.7-x86_64-3.6/cvxpy/atoms\n",
      "  copying cvxpy/atoms/sum_squares.py -> build/lib.macosx-10.7-x86_64-3.6/cvxpy/atoms\n",
      "  copying cvxpy/atoms/log_sum_exp.py -> build/lib.macosx-10.7-x86_64-3.6/cvxpy/atoms\n",
      "  copying cvxpy/atoms/norm_nuc.py -> build/lib.macosx-10.7-x86_64-3.6/cvxpy/atoms\n",
      "  copying cvxpy/atoms/dist_ratio.py -> build/lib.macosx-10.7-x86_64-3.6/cvxpy/atoms\n",
      "  copying cvxpy/atoms/mixed_norm.py -> build/lib.macosx-10.7-x86_64-3.6/cvxpy/atoms\n",
      "  copying cvxpy/atoms/min.py -> build/lib.macosx-10.7-x86_64-3.6/cvxpy/atoms\n",
      "  copying cvxpy/atoms/quad_over_lin.py -> build/lib.macosx-10.7-x86_64-3.6/cvxpy/atoms\n",
      "  copying cvxpy/atoms/geo_mean.py -> build/lib.macosx-10.7-x86_64-3.6/cvxpy/atoms\n",
      "  copying cvxpy/atoms/axis_atom.py -> build/lib.macosx-10.7-x86_64-3.6/cvxpy/atoms\n",
      "  copying cvxpy/atoms/lambda_min.py -> build/lib.macosx-10.7-x86_64-3.6/cvxpy/atoms\n",
      "  copying cvxpy/atoms/norm_inf.py -> build/lib.macosx-10.7-x86_64-3.6/cvxpy/atoms\n",
      "  copying cvxpy/atoms/one_minus_pos.py -> build/lib.macosx-10.7-x86_64-3.6/cvxpy/atoms\n",
      "  copying cvxpy/atoms/quad_form.py -> build/lib.macosx-10.7-x86_64-3.6/cvxpy/atoms\n",
      "  copying cvxpy/atoms/prod.py -> build/lib.macosx-10.7-x86_64-3.6/cvxpy/atoms\n",
      "  copying cvxpy/atoms/log_det.py -> build/lib.macosx-10.7-x86_64-3.6/cvxpy/atoms\n",
      "  copying cvxpy/atoms/suppfunc.py -> build/lib.macosx-10.7-x86_64-3.6/cvxpy/atoms\n",
      "  copying cvxpy/atoms/harmonic_mean.py -> build/lib.macosx-10.7-x86_64-3.6/cvxpy/atoms\n",
      "  copying cvxpy/atoms/gen_lambda_max.py -> build/lib.macosx-10.7-x86_64-3.6/cvxpy/atoms\n",
      "  copying cvxpy/atoms/sign.py -> build/lib.macosx-10.7-x86_64-3.6/cvxpy/atoms\n",
      "  copying cvxpy/atoms/atom.py -> build/lib.macosx-10.7-x86_64-3.6/cvxpy/atoms\n",
      "  copying cvxpy/atoms/inv_prod.py -> build/lib.macosx-10.7-x86_64-3.6/cvxpy/atoms\n",
      "  copying cvxpy/atoms/gmatmul.py -> build/lib.macosx-10.7-x86_64-3.6/cvxpy/atoms\n",
      "  creating build/lib.macosx-10.7-x86_64-3.6/cvxpy/constraints\n",
      "  copying cvxpy/constraints/constraint.py -> build/lib.macosx-10.7-x86_64-3.6/cvxpy/constraints\n",
      "  copying cvxpy/constraints/__init__.py -> build/lib.macosx-10.7-x86_64-3.6/cvxpy/constraints\n",
      "  copying cvxpy/constraints/second_order.py -> build/lib.macosx-10.7-x86_64-3.6/cvxpy/constraints\n",
      "  copying cvxpy/constraints/exponential.py -> build/lib.macosx-10.7-x86_64-3.6/cvxpy/constraints\n",
      "  copying cvxpy/constraints/zero.py -> build/lib.macosx-10.7-x86_64-3.6/cvxpy/constraints\n",
      "  copying cvxpy/constraints/nonpos.py -> build/lib.macosx-10.7-x86_64-3.6/cvxpy/constraints\n",
      "  copying cvxpy/constraints/psd.py -> build/lib.macosx-10.7-x86_64-3.6/cvxpy/constraints\n",
      "  copying cvxpy/constraints/utilities.py -> build/lib.macosx-10.7-x86_64-3.6/cvxpy/constraints\n",
      "  copying cvxpy/constraints/power.py -> build/lib.macosx-10.7-x86_64-3.6/cvxpy/constraints\n",
      "  creating build/lib.macosx-10.7-x86_64-3.6/cvxpy/tests\n",
      "  copying cvxpy/tests/base_test.py -> build/lib.macosx-10.7-x86_64-3.6/cvxpy/tests\n",
      "  copying cvxpy/tests/test_mip_vars.py -> build/lib.macosx-10.7-x86_64-3.6/cvxpy/tests\n",
      "  copying cvxpy/tests/test_derivative.py -> build/lib.macosx-10.7-x86_64-3.6/cvxpy/tests\n",
      "  copying cvxpy/tests/test_nonlinear_atoms.py -> build/lib.macosx-10.7-x86_64-3.6/cvxpy/tests\n",
      "  copying cvxpy/tests/test_expressions.py -> build/lib.macosx-10.7-x86_64-3.6/cvxpy/tests\n",
      "  copying cvxpy/tests/test_constant_atoms.py -> build/lib.macosx-10.7-x86_64-3.6/cvxpy/tests\n",
      "  copying cvxpy/tests/test_param_quad_prog.py -> build/lib.macosx-10.7-x86_64-3.6/cvxpy/tests\n",
      "  copying cvxpy/tests/test_cone2cone.py -> build/lib.macosx-10.7-x86_64-3.6/cvxpy/tests\n",
      "  copying cvxpy/tests/test_semidefinite_vars.py -> build/lib.macosx-10.7-x86_64-3.6/cvxpy/tests\n",
      "  copying cvxpy/tests/test_shape.py -> build/lib.macosx-10.7-x86_64-3.6/cvxpy/tests\n",
      "  copying cvxpy/tests/test_lin_ops.py -> build/lib.macosx-10.7-x86_64-3.6/cvxpy/tests\n",
      "  copying cvxpy/tests/test_benchmarks.py -> build/lib.macosx-10.7-x86_64-3.6/cvxpy/tests\n",
      "  copying cvxpy/tests/test_atoms.py -> build/lib.macosx-10.7-x86_64-3.6/cvxpy/tests\n",
      "  copying cvxpy/tests/test_objectives.py -> build/lib.macosx-10.7-x86_64-3.6/cvxpy/tests\n",
      "  copying cvxpy/tests/test_dgp.py -> build/lib.macosx-10.7-x86_64-3.6/cvxpy/tests\n",
      "  copying cvxpy/tests/test_dpp.py -> build/lib.macosx-10.7-x86_64-3.6/cvxpy/tests\n",
      "  copying cvxpy/tests/test_convolution.py -> build/lib.macosx-10.7-x86_64-3.6/cvxpy/tests\n",
      "  copying cvxpy/tests/__init__.py -> build/lib.macosx-10.7-x86_64-3.6/cvxpy/tests\n",
      "  copying cvxpy/tests/test_dgp2dcp.py -> build/lib.macosx-10.7-x86_64-3.6/cvxpy/tests\n",
      "  copying cvxpy/tests/test_matrices.py -> build/lib.macosx-10.7-x86_64-3.6/cvxpy/tests\n",
      "  copying cvxpy/tests/test_quad_form.py -> build/lib.macosx-10.7-x86_64-3.6/cvxpy/tests\n",
      "  copying cvxpy/tests/test_constraints.py -> build/lib.macosx-10.7-x86_64-3.6/cvxpy/tests\n",
      "  copying cvxpy/tests/test_qp_solvers.py -> build/lib.macosx-10.7-x86_64-3.6/cvxpy/tests\n",
      "  copying cvxpy/tests/test_monotonicity.py -> build/lib.macosx-10.7-x86_64-3.6/cvxpy/tests\n",
      "  copying cvxpy/tests/ram_limited.py -> build/lib.macosx-10.7-x86_64-3.6/cvxpy/tests\n",
      "  copying cvxpy/tests/test_quadratic.py -> build/lib.macosx-10.7-x86_64-3.6/cvxpy/tests\n",
      "  copying cvxpy/tests/test_suppfunc.py -> build/lib.macosx-10.7-x86_64-3.6/cvxpy/tests\n",
      "  copying cvxpy/tests/test_domain.py -> build/lib.macosx-10.7-x86_64-3.6/cvxpy/tests\n",
      "  copying cvxpy/tests/solver_test_helpers.py -> build/lib.macosx-10.7-x86_64-3.6/cvxpy/tests\n",
      "  copying cvxpy/tests/test_problem.py -> build/lib.macosx-10.7-x86_64-3.6/cvxpy/tests\n",
      "  copying cvxpy/tests/test_dqcp.py -> build/lib.macosx-10.7-x86_64-3.6/cvxpy/tests\n",
      "  copying cvxpy/tests/test_param_cone_prog.py -> build/lib.macosx-10.7-x86_64-3.6/cvxpy/tests\n",
      "  copying cvxpy/tests/test_complex.py -> build/lib.macosx-10.7-x86_64-3.6/cvxpy/tests\n",
      "  copying cvxpy/tests/test_linear_cone.py -> build/lib.macosx-10.7-x86_64-3.6/cvxpy/tests\n",
      "  copying cvxpy/tests/test_interfaces.py -> build/lib.macosx-10.7-x86_64-3.6/cvxpy/tests\n",
      "  copying cvxpy/tests/test_curvature.py -> build/lib.macosx-10.7-x86_64-3.6/cvxpy/tests\n",
      "  copying cvxpy/tests/test_conic_solvers.py -> build/lib.macosx-10.7-x86_64-3.6/cvxpy/tests\n",
      "  copying cvxpy/tests/test_examples.py -> build/lib.macosx-10.7-x86_64-3.6/cvxpy/tests\n",
      "  copying cvxpy/tests/test_sign.py -> build/lib.macosx-10.7-x86_64-3.6/cvxpy/tests\n",
      "  copying cvxpy/tests/test_grad.py -> build/lib.macosx-10.7-x86_64-3.6/cvxpy/tests\n",
      "  copying cvxpy/tests/test_custom_solver.py -> build/lib.macosx-10.7-x86_64-3.6/cvxpy/tests\n",
      "  creating build/lib.macosx-10.7-x86_64-3.6/cvxpy/problems\n",
      "  copying cvxpy/problems/objective.py -> build/lib.macosx-10.7-x86_64-3.6/cvxpy/problems\n",
      "  copying cvxpy/problems/xpress_problem.py -> build/lib.macosx-10.7-x86_64-3.6/cvxpy/problems\n",
      "  copying cvxpy/problems/__init__.py -> build/lib.macosx-10.7-x86_64-3.6/cvxpy/problems\n",
      "  copying cvxpy/problems/param_prob.py -> build/lib.macosx-10.7-x86_64-3.6/cvxpy/problems\n",
      "  copying cvxpy/problems/problem.py -> build/lib.macosx-10.7-x86_64-3.6/cvxpy/problems\n",
      "  copying cvxpy/problems/iterative.py -> build/lib.macosx-10.7-x86_64-3.6/cvxpy/problems\n",
      "  creating build/lib.macosx-10.7-x86_64-3.6/cvxpy/lin_ops\n",
      "  copying cvxpy/lin_ops/__init__.py -> build/lib.macosx-10.7-x86_64-3.6/cvxpy/lin_ops\n",
      "  copying cvxpy/lin_ops/lin_op.py -> build/lib.macosx-10.7-x86_64-3.6/cvxpy/lin_ops\n",
      "  copying cvxpy/lin_ops/lin_constraints.py -> build/lib.macosx-10.7-x86_64-3.6/cvxpy/lin_ops\n",
      "  copying cvxpy/lin_ops/lin_utils.py -> build/lib.macosx-10.7-x86_64-3.6/cvxpy/lin_ops\n",
      "  copying cvxpy/lin_ops/tree_mat.py -> build/lib.macosx-10.7-x86_64-3.6/cvxpy/lin_ops\n",
      "  creating build/lib.macosx-10.7-x86_64-3.6/cvxpy/utilities\n",
      "  copying cvxpy/utilities/scopes.py -> build/lib.macosx-10.7-x86_64-3.6/cvxpy/utilities\n",
      "  copying cvxpy/utilities/cvxpy_upgrade.py -> build/lib.macosx-10.7-x86_64-3.6/cvxpy/utilities\n",
      "  copying cvxpy/utilities/replace_quad_forms.py -> build/lib.macosx-10.7-x86_64-3.6/cvxpy/utilities\n",
      "  copying cvxpy/utilities/power_tools.py -> build/lib.macosx-10.7-x86_64-3.6/cvxpy/utilities\n",
      "  copying cvxpy/utilities/debug_tools.py -> build/lib.macosx-10.7-x86_64-3.6/cvxpy/utilities\n",
      "  copying cvxpy/utilities/deterministic.py -> build/lib.macosx-10.7-x86_64-3.6/cvxpy/utilities\n",
      "  copying cvxpy/utilities/performance_utils.py -> build/lib.macosx-10.7-x86_64-3.6/cvxpy/utilities\n",
      "  copying cvxpy/utilities/__init__.py -> build/lib.macosx-10.7-x86_64-3.6/cvxpy/utilities\n",
      "  copying cvxpy/utilities/key_utils.py -> build/lib.macosx-10.7-x86_64-3.6/cvxpy/utilities\n",
      "  copying cvxpy/utilities/canonical.py -> build/lib.macosx-10.7-x86_64-3.6/cvxpy/utilities\n",
      "  copying cvxpy/utilities/shape.py -> build/lib.macosx-10.7-x86_64-3.6/cvxpy/utilities\n",
      "  copying cvxpy/utilities/sign.py -> build/lib.macosx-10.7-x86_64-3.6/cvxpy/utilities\n",
      "  copying cvxpy/utilities/grad.py -> build/lib.macosx-10.7-x86_64-3.6/cvxpy/utilities\n",
      "  copying cvxpy/utilities/coeff_extractor.py -> build/lib.macosx-10.7-x86_64-3.6/cvxpy/utilities\n",
      "  creating build/lib.macosx-10.7-x86_64-3.6/cvxpy/transforms\n",
      "  copying cvxpy/transforms/indicator.py -> build/lib.macosx-10.7-x86_64-3.6/cvxpy/transforms\n",
      "  copying cvxpy/transforms/__init__.py -> build/lib.macosx-10.7-x86_64-3.6/cvxpy/transforms\n",
      "  copying cvxpy/transforms/suppfunc.py -> build/lib.macosx-10.7-x86_64-3.6/cvxpy/transforms\n",
      "  copying cvxpy/transforms/partial_optimize.py -> build/lib.macosx-10.7-x86_64-3.6/cvxpy/transforms\n",
      "  copying cvxpy/transforms/linearize.py -> build/lib.macosx-10.7-x86_64-3.6/cvxpy/transforms\n",
      "  copying cvxpy/transforms/scalarize.py -> build/lib.macosx-10.7-x86_64-3.6/cvxpy/transforms\n",
      "  creating build/lib.macosx-10.7-x86_64-3.6/cvxpy/expressions\n",
      "  copying cvxpy/expressions/cvxtypes.py -> build/lib.macosx-10.7-x86_64-3.6/cvxpy/expressions\n",
      "  copying cvxpy/expressions/leaf.py -> build/lib.macosx-10.7-x86_64-3.6/cvxpy/expressions\n",
      "  copying cvxpy/expressions/__init__.py -> build/lib.macosx-10.7-x86_64-3.6/cvxpy/expressions\n",
      "  copying cvxpy/expressions/variable.py -> build/lib.macosx-10.7-x86_64-3.6/cvxpy/expressions\n",
      "  copying cvxpy/expressions/expression.py -> build/lib.macosx-10.7-x86_64-3.6/cvxpy/expressions\n",
      "  creating build/lib.macosx-10.7-x86_64-3.6/cvxpy/cvxcore\n",
      "  copying cvxpy/cvxcore/__init__.py -> build/lib.macosx-10.7-x86_64-3.6/cvxpy/cvxcore\n",
      "  creating build/lib.macosx-10.7-x86_64-3.6/cvxpy/reductions\n",
      "  copying cvxpy/reductions/cvx_attr2constr.py -> build/lib.macosx-10.7-x86_64-3.6/cvxpy/reductions\n",
      "  copying cvxpy/reductions/canonicalization.py -> build/lib.macosx-10.7-x86_64-3.6/cvxpy/reductions\n",
      "  copying cvxpy/reductions/reduction.py -> build/lib.macosx-10.7-x86_64-3.6/cvxpy/reductions\n",
      "  copying cvxpy/reductions/chain.py -> build/lib.macosx-10.7-x86_64-3.6/cvxpy/reductions\n",
      "  copying cvxpy/reductions/solution.py -> build/lib.macosx-10.7-x86_64-3.6/cvxpy/reductions\n",
      "  copying cvxpy/reductions/__init__.py -> build/lib.macosx-10.7-x86_64-3.6/cvxpy/reductions\n",
      "  copying cvxpy/reductions/inverse_data.py -> build/lib.macosx-10.7-x86_64-3.6/cvxpy/reductions\n",
      "  copying cvxpy/reductions/eval_params.py -> build/lib.macosx-10.7-x86_64-3.6/cvxpy/reductions\n",
      "  copying cvxpy/reductions/matrix_stuffing.py -> build/lib.macosx-10.7-x86_64-3.6/cvxpy/reductions\n",
      "  copying cvxpy/reductions/utilities.py -> build/lib.macosx-10.7-x86_64-3.6/cvxpy/reductions\n",
      "  copying cvxpy/reductions/flip_objective.py -> build/lib.macosx-10.7-x86_64-3.6/cvxpy/reductions\n",
      "  creating build/lib.macosx-10.7-x86_64-3.6/cvxpy/interface/numpy_interface\n",
      "  copying cvxpy/interface/numpy_interface/matrix_interface.py -> build/lib.macosx-10.7-x86_64-3.6/cvxpy/interface/numpy_interface\n",
      "  copying cvxpy/interface/numpy_interface/sparse_matrix_interface.py -> build/lib.macosx-10.7-x86_64-3.6/cvxpy/interface/numpy_interface\n",
      "  copying cvxpy/interface/numpy_interface/__init__.py -> build/lib.macosx-10.7-x86_64-3.6/cvxpy/interface/numpy_interface\n",
      "  copying cvxpy/interface/numpy_interface/ndarray_interface.py -> build/lib.macosx-10.7-x86_64-3.6/cvxpy/interface/numpy_interface\n",
      "  creating build/lib.macosx-10.7-x86_64-3.6/cvxpy/atoms/affine\n",
      "  copying cvxpy/atoms/affine/vec.py -> build/lib.macosx-10.7-x86_64-3.6/cvxpy/atoms/affine\n",
      "  copying cvxpy/atoms/affine/trace.py -> build/lib.macosx-10.7-x86_64-3.6/cvxpy/atoms/affine\n",
      "  copying cvxpy/atoms/affine/unary_operators.py -> build/lib.macosx-10.7-x86_64-3.6/cvxpy/atoms/affine\n",
      "  copying cvxpy/atoms/affine/vstack.py -> build/lib.macosx-10.7-x86_64-3.6/cvxpy/atoms/affine\n",
      "  copying cvxpy/atoms/affine/affine_atom.py -> build/lib.macosx-10.7-x86_64-3.6/cvxpy/atoms/affine\n",
      "  copying cvxpy/atoms/affine/index.py -> build/lib.macosx-10.7-x86_64-3.6/cvxpy/atoms/affine\n",
      "  copying cvxpy/atoms/affine/upper_tri.py -> build/lib.macosx-10.7-x86_64-3.6/cvxpy/atoms/affine\n",
      "  copying cvxpy/atoms/affine/binary_operators.py -> build/lib.macosx-10.7-x86_64-3.6/cvxpy/atoms/affine\n",
      "  copying cvxpy/atoms/affine/hstack.py -> build/lib.macosx-10.7-x86_64-3.6/cvxpy/atoms/affine\n",
      "  copying cvxpy/atoms/affine/reshape.py -> build/lib.macosx-10.7-x86_64-3.6/cvxpy/atoms/affine\n",
      "  copying cvxpy/atoms/affine/bmat.py -> build/lib.macosx-10.7-x86_64-3.6/cvxpy/atoms/affine\n",
      "  copying cvxpy/atoms/affine/__init__.py -> build/lib.macosx-10.7-x86_64-3.6/cvxpy/atoms/affine\n",
      "  copying cvxpy/atoms/affine/promote.py -> build/lib.macosx-10.7-x86_64-3.6/cvxpy/atoms/affine\n",
      "  copying cvxpy/atoms/affine/real.py -> build/lib.macosx-10.7-x86_64-3.6/cvxpy/atoms/affine\n",
      "  copying cvxpy/atoms/affine/kron.py -> build/lib.macosx-10.7-x86_64-3.6/cvxpy/atoms/affine\n",
      "  copying cvxpy/atoms/affine/imag.py -> build/lib.macosx-10.7-x86_64-3.6/cvxpy/atoms/affine\n",
      "  copying cvxpy/atoms/affine/transpose.py -> build/lib.macosx-10.7-x86_64-3.6/cvxpy/atoms/affine\n",
      "  copying cvxpy/atoms/affine/diag.py -> build/lib.macosx-10.7-x86_64-3.6/cvxpy/atoms/affine\n",
      "  copying cvxpy/atoms/affine/add_expr.py -> build/lib.macosx-10.7-x86_64-3.6/cvxpy/atoms/affine\n",
      "  copying cvxpy/atoms/affine/diff.py -> build/lib.macosx-10.7-x86_64-3.6/cvxpy/atoms/affine\n",
      "  copying cvxpy/atoms/affine/sum.py -> build/lib.macosx-10.7-x86_64-3.6/cvxpy/atoms/affine\n",
      "  copying cvxpy/atoms/affine/conv.py -> build/lib.macosx-10.7-x86_64-3.6/cvxpy/atoms/affine\n",
      "  copying cvxpy/atoms/affine/cumsum.py -> build/lib.macosx-10.7-x86_64-3.6/cvxpy/atoms/affine\n",
      "  copying cvxpy/atoms/affine/conj.py -> build/lib.macosx-10.7-x86_64-3.6/cvxpy/atoms/affine\n",
      "  copying cvxpy/atoms/affine/wraps.py -> build/lib.macosx-10.7-x86_64-3.6/cvxpy/atoms/affine\n",
      "  creating build/lib.macosx-10.7-x86_64-3.6/cvxpy/atoms/elementwise\n",
      "  copying cvxpy/atoms/elementwise/kl_div.py -> build/lib.macosx-10.7-x86_64-3.6/cvxpy/atoms/elementwise\n",
      "  copying cvxpy/atoms/elementwise/pos.py -> build/lib.macosx-10.7-x86_64-3.6/cvxpy/atoms/elementwise\n",
      "  copying cvxpy/atoms/elementwise/neg.py -> build/lib.macosx-10.7-x86_64-3.6/cvxpy/atoms/elementwise\n",
      "  copying cvxpy/atoms/elementwise/sqrt.py -> build/lib.macosx-10.7-x86_64-3.6/cvxpy/atoms/elementwise\n",
      "  copying cvxpy/atoms/elementwise/entr.py -> build/lib.macosx-10.7-x86_64-3.6/cvxpy/atoms/elementwise\n",
      "  copying cvxpy/atoms/elementwise/log.py -> build/lib.macosx-10.7-x86_64-3.6/cvxpy/atoms/elementwise\n",
      "  copying cvxpy/atoms/elementwise/logistic.py -> build/lib.macosx-10.7-x86_64-3.6/cvxpy/atoms/elementwise\n",
      "  copying cvxpy/atoms/elementwise/elementwise.py -> build/lib.macosx-10.7-x86_64-3.6/cvxpy/atoms/elementwise\n",
      "  copying cvxpy/atoms/elementwise/abs.py -> build/lib.macosx-10.7-x86_64-3.6/cvxpy/atoms/elementwise\n",
      "  copying cvxpy/atoms/elementwise/__init__.py -> build/lib.macosx-10.7-x86_64-3.6/cvxpy/atoms/elementwise\n",
      "  copying cvxpy/atoms/elementwise/ceil.py -> build/lib.macosx-10.7-x86_64-3.6/cvxpy/atoms/elementwise\n",
      "  copying cvxpy/atoms/elementwise/maximum.py -> build/lib.macosx-10.7-x86_64-3.6/cvxpy/atoms/elementwise\n",
      "  copying cvxpy/atoms/elementwise/minimum.py -> build/lib.macosx-10.7-x86_64-3.6/cvxpy/atoms/elementwise\n",
      "  copying cvxpy/atoms/elementwise/huber.py -> build/lib.macosx-10.7-x86_64-3.6/cvxpy/atoms/elementwise\n",
      "  copying cvxpy/atoms/elementwise/scalene.py -> build/lib.macosx-10.7-x86_64-3.6/cvxpy/atoms/elementwise\n",
      "  copying cvxpy/atoms/elementwise/square.py -> build/lib.macosx-10.7-x86_64-3.6/cvxpy/atoms/elementwise\n",
      "  copying cvxpy/atoms/elementwise/log_normcdf.py -> build/lib.macosx-10.7-x86_64-3.6/cvxpy/atoms/elementwise\n",
      "  copying cvxpy/atoms/elementwise/inv_pos.py -> build/lib.macosx-10.7-x86_64-3.6/cvxpy/atoms/elementwise\n",
      "  copying cvxpy/atoms/elementwise/exp.py -> build/lib.macosx-10.7-x86_64-3.6/cvxpy/atoms/elementwise\n",
      "  copying cvxpy/atoms/elementwise/log1p.py -> build/lib.macosx-10.7-x86_64-3.6/cvxpy/atoms/elementwise\n",
      "  copying cvxpy/atoms/elementwise/power.py -> build/lib.macosx-10.7-x86_64-3.6/cvxpy/atoms/elementwise\n",
      "  creating build/lib.macosx-10.7-x86_64-3.6/cvxpy/expressions/constants\n",
      "  copying cvxpy/expressions/constants/__init__.py -> build/lib.macosx-10.7-x86_64-3.6/cvxpy/expressions/constants\n",
      "  copying cvxpy/expressions/constants/callback_param.py -> build/lib.macosx-10.7-x86_64-3.6/cvxpy/expressions/constants\n",
      "  copying cvxpy/expressions/constants/constant.py -> build/lib.macosx-10.7-x86_64-3.6/cvxpy/expressions/constants\n",
      "  copying cvxpy/expressions/constants/parameter.py -> build/lib.macosx-10.7-x86_64-3.6/cvxpy/expressions/constants\n",
      "  creating build/lib.macosx-10.7-x86_64-3.6/cvxpy/cvxcore/python\n",
      "  copying cvxpy/cvxcore/python/canonInterface.py -> build/lib.macosx-10.7-x86_64-3.6/cvxpy/cvxcore/python\n",
      "  copying cvxpy/cvxcore/python/__init__.py -> build/lib.macosx-10.7-x86_64-3.6/cvxpy/cvxcore/python\n",
      "  copying cvxpy/cvxcore/python/cvxcore.py -> build/lib.macosx-10.7-x86_64-3.6/cvxpy/cvxcore/python\n",
      "  creating build/lib.macosx-10.7-x86_64-3.6/cvxpy/reductions/complex2real\n",
      "  copying cvxpy/reductions/complex2real/complex2real.py -> build/lib.macosx-10.7-x86_64-3.6/cvxpy/reductions/complex2real\n",
      "  copying cvxpy/reductions/complex2real/__init__.py -> build/lib.macosx-10.7-x86_64-3.6/cvxpy/reductions/complex2real\n",
      "  creating build/lib.macosx-10.7-x86_64-3.6/cvxpy/reductions/qp2quad_form\n",
      "  copying cvxpy/reductions/qp2quad_form/qp_matrix_stuffing.py -> build/lib.macosx-10.7-x86_64-3.6/cvxpy/reductions/qp2quad_form\n",
      "  copying cvxpy/reductions/qp2quad_form/__init__.py -> build/lib.macosx-10.7-x86_64-3.6/cvxpy/reductions/qp2quad_form\n",
      "  copying cvxpy/reductions/qp2quad_form/qp2symbolic_qp.py -> build/lib.macosx-10.7-x86_64-3.6/cvxpy/reductions/qp2quad_form\n",
      "  creating build/lib.macosx-10.7-x86_64-3.6/cvxpy/reductions/dcp2cone\n",
      "  copying cvxpy/reductions/dcp2cone/__init__.py -> build/lib.macosx-10.7-x86_64-3.6/cvxpy/reductions/dcp2cone\n",
      "  copying cvxpy/reductions/dcp2cone/cone_matrix_stuffing.py -> build/lib.macosx-10.7-x86_64-3.6/cvxpy/reductions/dcp2cone\n",
      "  copying cvxpy/reductions/dcp2cone/dcp2cone.py -> build/lib.macosx-10.7-x86_64-3.6/cvxpy/reductions/dcp2cone\n",
      "  creating build/lib.macosx-10.7-x86_64-3.6/cvxpy/reductions/solvers\n",
      "  copying cvxpy/reductions/solvers/kktsolver.py -> build/lib.macosx-10.7-x86_64-3.6/cvxpy/reductions/solvers\n",
      "  copying cvxpy/reductions/solvers/solving_chain.py -> build/lib.macosx-10.7-x86_64-3.6/cvxpy/reductions/solvers\n",
      "  copying cvxpy/reductions/solvers/solver.py -> build/lib.macosx-10.7-x86_64-3.6/cvxpy/reductions/solvers\n",
      "  copying cvxpy/reductions/solvers/__init__.py -> build/lib.macosx-10.7-x86_64-3.6/cvxpy/reductions/solvers\n",
      "  copying cvxpy/reductions/solvers/compr_matrix.py -> build/lib.macosx-10.7-x86_64-3.6/cvxpy/reductions/solvers\n",
      "  copying cvxpy/reductions/solvers/defines.py -> build/lib.macosx-10.7-x86_64-3.6/cvxpy/reductions/solvers\n",
      "  copying cvxpy/reductions/solvers/constant_solver.py -> build/lib.macosx-10.7-x86_64-3.6/cvxpy/reductions/solvers\n",
      "  copying cvxpy/reductions/solvers/intermediate_chain.py -> build/lib.macosx-10.7-x86_64-3.6/cvxpy/reductions/solvers\n",
      "  copying cvxpy/reductions/solvers/utilities.py -> build/lib.macosx-10.7-x86_64-3.6/cvxpy/reductions/solvers\n",
      "  copying cvxpy/reductions/solvers/bisection.py -> build/lib.macosx-10.7-x86_64-3.6/cvxpy/reductions/solvers\n",
      "  creating build/lib.macosx-10.7-x86_64-3.6/cvxpy/reductions/dqcp2dcp\n",
      "  copying cvxpy/reductions/dqcp2dcp/__init__.py -> build/lib.macosx-10.7-x86_64-3.6/cvxpy/reductions/dqcp2dcp\n",
      "  copying cvxpy/reductions/dqcp2dcp/tighten.py -> build/lib.macosx-10.7-x86_64-3.6/cvxpy/reductions/dqcp2dcp\n",
      "  copying cvxpy/reductions/dqcp2dcp/dqcp2dcp.py -> build/lib.macosx-10.7-x86_64-3.6/cvxpy/reductions/dqcp2dcp\n",
      "  copying cvxpy/reductions/dqcp2dcp/sets.py -> build/lib.macosx-10.7-x86_64-3.6/cvxpy/reductions/dqcp2dcp\n",
      "  copying cvxpy/reductions/dqcp2dcp/inverse.py -> build/lib.macosx-10.7-x86_64-3.6/cvxpy/reductions/dqcp2dcp\n",
      "  creating build/lib.macosx-10.7-x86_64-3.6/cvxpy/reductions/cone2cone\n",
      "  copying cvxpy/reductions/cone2cone/__init__.py -> build/lib.macosx-10.7-x86_64-3.6/cvxpy/reductions/cone2cone\n",
      "  copying cvxpy/reductions/cone2cone/affine2direct.py -> build/lib.macosx-10.7-x86_64-3.6/cvxpy/reductions/cone2cone\n",
      "  copying cvxpy/reductions/cone2cone/exotic2common.py -> build/lib.macosx-10.7-x86_64-3.6/cvxpy/reductions/cone2cone\n",
      "  creating build/lib.macosx-10.7-x86_64-3.6/cvxpy/reductions/dgp2dcp\n",
      "  copying cvxpy/reductions/dgp2dcp/util.py -> build/lib.macosx-10.7-x86_64-3.6/cvxpy/reductions/dgp2dcp\n",
      "  copying cvxpy/reductions/dgp2dcp/dgp2dcp.py -> build/lib.macosx-10.7-x86_64-3.6/cvxpy/reductions/dgp2dcp\n",
      "  copying cvxpy/reductions/dgp2dcp/__init__.py -> build/lib.macosx-10.7-x86_64-3.6/cvxpy/reductions/dgp2dcp\n",
      "  creating build/lib.macosx-10.7-x86_64-3.6/cvxpy/reductions/eliminate_pwl\n",
      "  copying cvxpy/reductions/eliminate_pwl/eliminate_pwl.py -> build/lib.macosx-10.7-x86_64-3.6/cvxpy/reductions/eliminate_pwl\n",
      "  copying cvxpy/reductions/eliminate_pwl/__init__.py -> build/lib.macosx-10.7-x86_64-3.6/cvxpy/reductions/eliminate_pwl\n",
      "  creating build/lib.macosx-10.7-x86_64-3.6/cvxpy/reductions/complex2real/atom_canonicalizers\n",
      "  copying cvxpy/reductions/complex2real/atom_canonicalizers/constant_canon.py -> build/lib.macosx-10.7-x86_64-3.6/cvxpy/reductions/complex2real/atom_canonicalizers\n",
      "  copying cvxpy/reductions/complex2real/atom_canonicalizers/param_canon.py -> build/lib.macosx-10.7-x86_64-3.6/cvxpy/reductions/complex2real/atom_canonicalizers\n",
      "  copying cvxpy/reductions/complex2real/atom_canonicalizers/inequality_canon.py -> build/lib.macosx-10.7-x86_64-3.6/cvxpy/reductions/complex2real/atom_canonicalizers\n",
      "  copying cvxpy/reductions/complex2real/atom_canonicalizers/variable_canon.py -> build/lib.macosx-10.7-x86_64-3.6/cvxpy/reductions/complex2real/atom_canonicalizers\n",
      "  copying cvxpy/reductions/complex2real/atom_canonicalizers/__init__.py -> build/lib.macosx-10.7-x86_64-3.6/cvxpy/reductions/complex2real/atom_canonicalizers\n",
      "  copying cvxpy/reductions/complex2real/atom_canonicalizers/aff_canon.py -> build/lib.macosx-10.7-x86_64-3.6/cvxpy/reductions/complex2real/atom_canonicalizers\n",
      "  copying cvxpy/reductions/complex2real/atom_canonicalizers/psd_canon.py -> build/lib.macosx-10.7-x86_64-3.6/cvxpy/reductions/complex2real/atom_canonicalizers\n",
      "  copying cvxpy/reductions/complex2real/atom_canonicalizers/pnorm_canon.py -> build/lib.macosx-10.7-x86_64-3.6/cvxpy/reductions/complex2real/atom_canonicalizers\n",
      "  copying cvxpy/reductions/complex2real/atom_canonicalizers/soc_canon.py -> build/lib.macosx-10.7-x86_64-3.6/cvxpy/reductions/complex2real/atom_canonicalizers\n",
      "  copying cvxpy/reductions/complex2real/atom_canonicalizers/matrix_canon.py -> build/lib.macosx-10.7-x86_64-3.6/cvxpy/reductions/complex2real/atom_canonicalizers\n",
      "  copying cvxpy/reductions/complex2real/atom_canonicalizers/abs_canon.py -> build/lib.macosx-10.7-x86_64-3.6/cvxpy/reductions/complex2real/atom_canonicalizers\n",
      "  copying cvxpy/reductions/complex2real/atom_canonicalizers/equality_canon.py -> build/lib.macosx-10.7-x86_64-3.6/cvxpy/reductions/complex2real/atom_canonicalizers\n",
      "  creating build/lib.macosx-10.7-x86_64-3.6/cvxpy/reductions/qp2quad_form/atom_canonicalizers\n",
      "  copying cvxpy/reductions/qp2quad_form/atom_canonicalizers/quad_form_canon.py -> build/lib.macosx-10.7-x86_64-3.6/cvxpy/reductions/qp2quad_form/atom_canonicalizers\n",
      "  copying cvxpy/reductions/qp2quad_form/atom_canonicalizers/quad_over_lin_canon.py -> build/lib.macosx-10.7-x86_64-3.6/cvxpy/reductions/qp2quad_form/atom_canonicalizers\n",
      "  copying cvxpy/reductions/qp2quad_form/atom_canonicalizers/power_canon.py -> build/lib.macosx-10.7-x86_64-3.6/cvxpy/reductions/qp2quad_form/atom_canonicalizers\n",
      "  copying cvxpy/reductions/qp2quad_form/atom_canonicalizers/__init__.py -> build/lib.macosx-10.7-x86_64-3.6/cvxpy/reductions/qp2quad_form/atom_canonicalizers\n",
      "  copying cvxpy/reductions/qp2quad_form/atom_canonicalizers/huber_canon.py -> build/lib.macosx-10.7-x86_64-3.6/cvxpy/reductions/qp2quad_form/atom_canonicalizers\n",
      "  creating build/lib.macosx-10.7-x86_64-3.6/cvxpy/reductions/dcp2cone/atom_canonicalizers\n",
      "  copying cvxpy/reductions/dcp2cone/atom_canonicalizers/quad_form_canon.py -> build/lib.macosx-10.7-x86_64-3.6/cvxpy/reductions/dcp2cone/atom_canonicalizers\n",
      "  copying cvxpy/reductions/dcp2cone/atom_canonicalizers/suppfunc_canon.py -> build/lib.macosx-10.7-x86_64-3.6/cvxpy/reductions/dcp2cone/atom_canonicalizers\n",
      "  copying cvxpy/reductions/dcp2cone/atom_canonicalizers/log1p_canon.py -> build/lib.macosx-10.7-x86_64-3.6/cvxpy/reductions/dcp2cone/atom_canonicalizers\n",
      "  copying cvxpy/reductions/dcp2cone/atom_canonicalizers/log_det_canon.py -> build/lib.macosx-10.7-x86_64-3.6/cvxpy/reductions/dcp2cone/atom_canonicalizers\n",
      "  copying cvxpy/reductions/dcp2cone/atom_canonicalizers/geo_mean_canon.py -> build/lib.macosx-10.7-x86_64-3.6/cvxpy/reductions/dcp2cone/atom_canonicalizers\n",
      "  copying cvxpy/reductions/dcp2cone/atom_canonicalizers/exp_canon.py -> build/lib.macosx-10.7-x86_64-3.6/cvxpy/reductions/dcp2cone/atom_canonicalizers\n",
      "  copying cvxpy/reductions/dcp2cone/atom_canonicalizers/quad_over_lin_canon.py -> build/lib.macosx-10.7-x86_64-3.6/cvxpy/reductions/dcp2cone/atom_canonicalizers\n",
      "  copying cvxpy/reductions/dcp2cone/atom_canonicalizers/power_canon.py -> build/lib.macosx-10.7-x86_64-3.6/cvxpy/reductions/dcp2cone/atom_canonicalizers\n",
      "  copying cvxpy/reductions/dcp2cone/atom_canonicalizers/log_sum_exp_canon.py -> build/lib.macosx-10.7-x86_64-3.6/cvxpy/reductions/dcp2cone/atom_canonicalizers\n",
      "  copying cvxpy/reductions/dcp2cone/atom_canonicalizers/__init__.py -> build/lib.macosx-10.7-x86_64-3.6/cvxpy/reductions/dcp2cone/atom_canonicalizers\n",
      "  copying cvxpy/reductions/dcp2cone/atom_canonicalizers/normNuc_canon.py -> build/lib.macosx-10.7-x86_64-3.6/cvxpy/reductions/dcp2cone/atom_canonicalizers\n",
      "  copying cvxpy/reductions/dcp2cone/atom_canonicalizers/logistic_canon.py -> build/lib.macosx-10.7-x86_64-3.6/cvxpy/reductions/dcp2cone/atom_canonicalizers\n",
      "  copying cvxpy/reductions/dcp2cone/atom_canonicalizers/matrix_frac_canon.py -> build/lib.macosx-10.7-x86_64-3.6/cvxpy/reductions/dcp2cone/atom_canonicalizers\n",
      "  copying cvxpy/reductions/dcp2cone/atom_canonicalizers/sigma_max_canon.py -> build/lib.macosx-10.7-x86_64-3.6/cvxpy/reductions/dcp2cone/atom_canonicalizers\n",
      "  copying cvxpy/reductions/dcp2cone/atom_canonicalizers/pnorm_canon.py -> build/lib.macosx-10.7-x86_64-3.6/cvxpy/reductions/dcp2cone/atom_canonicalizers\n",
      "  copying cvxpy/reductions/dcp2cone/atom_canonicalizers/lambda_sum_largest_canon.py -> build/lib.macosx-10.7-x86_64-3.6/cvxpy/reductions/dcp2cone/atom_canonicalizers\n",
      "  copying cvxpy/reductions/dcp2cone/atom_canonicalizers/lambda_max_canon.py -> build/lib.macosx-10.7-x86_64-3.6/cvxpy/reductions/dcp2cone/atom_canonicalizers\n",
      "  copying cvxpy/reductions/dcp2cone/atom_canonicalizers/huber_canon.py -> build/lib.macosx-10.7-x86_64-3.6/cvxpy/reductions/dcp2cone/atom_canonicalizers\n",
      "  copying cvxpy/reductions/dcp2cone/atom_canonicalizers/entr_canon.py -> build/lib.macosx-10.7-x86_64-3.6/cvxpy/reductions/dcp2cone/atom_canonicalizers\n",
      "  copying cvxpy/reductions/dcp2cone/atom_canonicalizers/log_canon.py -> build/lib.macosx-10.7-x86_64-3.6/cvxpy/reductions/dcp2cone/atom_canonicalizers\n",
      "  copying cvxpy/reductions/dcp2cone/atom_canonicalizers/indicator_canon.py -> build/lib.macosx-10.7-x86_64-3.6/cvxpy/reductions/dcp2cone/atom_canonicalizers\n",
      "  copying cvxpy/reductions/dcp2cone/atom_canonicalizers/mul_canon.py -> build/lib.macosx-10.7-x86_64-3.6/cvxpy/reductions/dcp2cone/atom_canonicalizers\n",
      "  copying cvxpy/reductions/dcp2cone/atom_canonicalizers/kl_div_canon.py -> build/lib.macosx-10.7-x86_64-3.6/cvxpy/reductions/dcp2cone/atom_canonicalizers\n",
      "  creating build/lib.macosx-10.7-x86_64-3.6/cvxpy/reductions/solvers/conic_solvers\n",
      "  copying cvxpy/reductions/solvers/conic_solvers/conic_solver.py -> build/lib.macosx-10.7-x86_64-3.6/cvxpy/reductions/solvers/conic_solvers\n",
      "  copying cvxpy/reductions/solvers/conic_solvers/ecos_bb_conif.py -> build/lib.macosx-10.7-x86_64-3.6/cvxpy/reductions/solvers/conic_solvers\n",
      "  copying cvxpy/reductions/solvers/conic_solvers/cbc_conif.py -> build/lib.macosx-10.7-x86_64-3.6/cvxpy/reductions/solvers/conic_solvers\n",
      "  copying cvxpy/reductions/solvers/conic_solvers/nag_conif.py -> build/lib.macosx-10.7-x86_64-3.6/cvxpy/reductions/solvers/conic_solvers\n",
      "  copying cvxpy/reductions/solvers/conic_solvers/ecos_conif.py -> build/lib.macosx-10.7-x86_64-3.6/cvxpy/reductions/solvers/conic_solvers\n",
      "  copying cvxpy/reductions/solvers/conic_solvers/mosek_conif.py -> build/lib.macosx-10.7-x86_64-3.6/cvxpy/reductions/solvers/conic_solvers\n",
      "  copying cvxpy/reductions/solvers/conic_solvers/scs_conif.py -> build/lib.macosx-10.7-x86_64-3.6/cvxpy/reductions/solvers/conic_solvers\n",
      "  copying cvxpy/reductions/solvers/conic_solvers/__init__.py -> build/lib.macosx-10.7-x86_64-3.6/cvxpy/reductions/solvers/conic_solvers\n",
      "  copying cvxpy/reductions/solvers/conic_solvers/xpress_conif.py -> build/lib.macosx-10.7-x86_64-3.6/cvxpy/reductions/solvers/conic_solvers\n",
      "  copying cvxpy/reductions/solvers/conic_solvers/diffcp_conif.py -> build/lib.macosx-10.7-x86_64-3.6/cvxpy/reductions/solvers/conic_solvers\n",
      "  copying cvxpy/reductions/solvers/conic_solvers/cplex_conif.py -> build/lib.macosx-10.7-x86_64-3.6/cvxpy/reductions/solvers/conic_solvers\n",
      "  copying cvxpy/reductions/solvers/conic_solvers/cvxopt_conif.py -> build/lib.macosx-10.7-x86_64-3.6/cvxpy/reductions/solvers/conic_solvers\n",
      "  copying cvxpy/reductions/solvers/conic_solvers/glpk_mi_conif.py -> build/lib.macosx-10.7-x86_64-3.6/cvxpy/reductions/solvers/conic_solvers\n",
      "  copying cvxpy/reductions/solvers/conic_solvers/glpk_conif.py -> build/lib.macosx-10.7-x86_64-3.6/cvxpy/reductions/solvers/conic_solvers\n",
      "  copying cvxpy/reductions/solvers/conic_solvers/scip_conif.py -> build/lib.macosx-10.7-x86_64-3.6/cvxpy/reductions/solvers/conic_solvers\n",
      "  copying cvxpy/reductions/solvers/conic_solvers/gurobi_conif.py -> build/lib.macosx-10.7-x86_64-3.6/cvxpy/reductions/solvers/conic_solvers\n",
      "  creating build/lib.macosx-10.7-x86_64-3.6/cvxpy/reductions/solvers/lp_solvers\n",
      "  copying cvxpy/reductions/solvers/lp_solvers/__init__.py -> build/lib.macosx-10.7-x86_64-3.6/cvxpy/reductions/solvers/lp_solvers\n",
      "  creating build/lib.macosx-10.7-x86_64-3.6/cvxpy/reductions/solvers/qp_solvers\n",
      "  copying cvxpy/reductions/solvers/qp_solvers/osqp_qpif.py -> build/lib.macosx-10.7-x86_64-3.6/cvxpy/reductions/solvers/qp_solvers\n",
      "  copying cvxpy/reductions/solvers/qp_solvers/qp_solver.py -> build/lib.macosx-10.7-x86_64-3.6/cvxpy/reductions/solvers/qp_solvers\n",
      "  copying cvxpy/reductions/solvers/qp_solvers/cplex_qpif.py -> build/lib.macosx-10.7-x86_64-3.6/cvxpy/reductions/solvers/qp_solvers\n",
      "  copying cvxpy/reductions/solvers/qp_solvers/__init__.py -> build/lib.macosx-10.7-x86_64-3.6/cvxpy/reductions/solvers/qp_solvers\n",
      "  copying cvxpy/reductions/solvers/qp_solvers/gurobi_qpif.py -> build/lib.macosx-10.7-x86_64-3.6/cvxpy/reductions/solvers/qp_solvers\n",
      "  copying cvxpy/reductions/solvers/qp_solvers/xpress_qpif.py -> build/lib.macosx-10.7-x86_64-3.6/cvxpy/reductions/solvers/qp_solvers\n",
      "  creating build/lib.macosx-10.7-x86_64-3.6/cvxpy/reductions/dgp2dcp/atom_canonicalizers\n",
      "  copying cvxpy/reductions/dgp2dcp/atom_canonicalizers/quad_form_canon.py -> build/lib.macosx-10.7-x86_64-3.6/cvxpy/reductions/dgp2dcp/atom_canonicalizers\n",
      "  copying cvxpy/reductions/dgp2dcp/atom_canonicalizers/constant_canon.py -> build/lib.macosx-10.7-x86_64-3.6/cvxpy/reductions/dgp2dcp/atom_canonicalizers\n",
      "  copying cvxpy/reductions/dgp2dcp/atom_canonicalizers/parameter_canon.py -> build/lib.macosx-10.7-x86_64-3.6/cvxpy/reductions/dgp2dcp/atom_canonicalizers\n",
      "  copying cvxpy/reductions/dgp2dcp/atom_canonicalizers/eye_minus_inv_canon.py -> build/lib.macosx-10.7-x86_64-3.6/cvxpy/reductions/dgp2dcp/atom_canonicalizers\n",
      "  copying cvxpy/reductions/dgp2dcp/atom_canonicalizers/norm1_canon.py -> build/lib.macosx-10.7-x86_64-3.6/cvxpy/reductions/dgp2dcp/atom_canonicalizers\n",
      "  copying cvxpy/reductions/dgp2dcp/atom_canonicalizers/div_canon.py -> build/lib.macosx-10.7-x86_64-3.6/cvxpy/reductions/dgp2dcp/atom_canonicalizers\n",
      "  copying cvxpy/reductions/dgp2dcp/atom_canonicalizers/geo_mean_canon.py -> build/lib.macosx-10.7-x86_64-3.6/cvxpy/reductions/dgp2dcp/atom_canonicalizers\n",
      "  copying cvxpy/reductions/dgp2dcp/atom_canonicalizers/nonpos_constr_canon.py -> build/lib.macosx-10.7-x86_64-3.6/cvxpy/reductions/dgp2dcp/atom_canonicalizers\n",
      "  copying cvxpy/reductions/dgp2dcp/atom_canonicalizers/add_canon.py -> build/lib.macosx-10.7-x86_64-3.6/cvxpy/reductions/dgp2dcp/atom_canonicalizers\n",
      "  copying cvxpy/reductions/dgp2dcp/atom_canonicalizers/exp_canon.py -> build/lib.macosx-10.7-x86_64-3.6/cvxpy/reductions/dgp2dcp/atom_canonicalizers\n",
      "  copying cvxpy/reductions/dgp2dcp/atom_canonicalizers/quad_over_lin_canon.py -> build/lib.macosx-10.7-x86_64-3.6/cvxpy/reductions/dgp2dcp/atom_canonicalizers\n",
      "  copying cvxpy/reductions/dgp2dcp/atom_canonicalizers/power_canon.py -> build/lib.macosx-10.7-x86_64-3.6/cvxpy/reductions/dgp2dcp/atom_canonicalizers\n",
      "  copying cvxpy/reductions/dgp2dcp/atom_canonicalizers/pf_eigenvalue_canon.py -> build/lib.macosx-10.7-x86_64-3.6/cvxpy/reductions/dgp2dcp/atom_canonicalizers\n",
      "  copying cvxpy/reductions/dgp2dcp/atom_canonicalizers/__init__.py -> build/lib.macosx-10.7-x86_64-3.6/cvxpy/reductions/dgp2dcp/atom_canonicalizers\n",
      "  copying cvxpy/reductions/dgp2dcp/atom_canonicalizers/pnorm_canon.py -> build/lib.macosx-10.7-x86_64-3.6/cvxpy/reductions/dgp2dcp/atom_canonicalizers\n",
      "  copying cvxpy/reductions/dgp2dcp/atom_canonicalizers/zero_constr_canon.py -> build/lib.macosx-10.7-x86_64-3.6/cvxpy/reductions/dgp2dcp/atom_canonicalizers\n",
      "  copying cvxpy/reductions/dgp2dcp/atom_canonicalizers/norm_inf_canon.py -> build/lib.macosx-10.7-x86_64-3.6/cvxpy/reductions/dgp2dcp/atom_canonicalizers\n",
      "  copying cvxpy/reductions/dgp2dcp/atom_canonicalizers/gmatmul_canon.py -> build/lib.macosx-10.7-x86_64-3.6/cvxpy/reductions/dgp2dcp/atom_canonicalizers\n",
      "  copying cvxpy/reductions/dgp2dcp/atom_canonicalizers/trace_canon.py -> build/lib.macosx-10.7-x86_64-3.6/cvxpy/reductions/dgp2dcp/atom_canonicalizers\n",
      "  copying cvxpy/reductions/dgp2dcp/atom_canonicalizers/mulexpression_canon.py -> build/lib.macosx-10.7-x86_64-3.6/cvxpy/reductions/dgp2dcp/atom_canonicalizers\n",
      "  copying cvxpy/reductions/dgp2dcp/atom_canonicalizers/log_canon.py -> build/lib.macosx-10.7-x86_64-3.6/cvxpy/reductions/dgp2dcp/atom_canonicalizers\n",
      "  copying cvxpy/reductions/dgp2dcp/atom_canonicalizers/prod_canon.py -> build/lib.macosx-10.7-x86_64-3.6/cvxpy/reductions/dgp2dcp/atom_canonicalizers\n",
      "  copying cvxpy/reductions/dgp2dcp/atom_canonicalizers/one_minus_pos_canon.py -> build/lib.macosx-10.7-x86_64-3.6/cvxpy/reductions/dgp2dcp/atom_canonicalizers\n",
      "  copying cvxpy/reductions/dgp2dcp/atom_canonicalizers/sum_canon.py -> build/lib.macosx-10.7-x86_64-3.6/cvxpy/reductions/dgp2dcp/atom_canonicalizers\n",
      "  copying cvxpy/reductions/dgp2dcp/atom_canonicalizers/mul_canon.py -> build/lib.macosx-10.7-x86_64-3.6/cvxpy/reductions/dgp2dcp/atom_canonicalizers\n",
      "  creating build/lib.macosx-10.7-x86_64-3.6/cvxpy/reductions/eliminate_pwl/atom_canonicalizers\n",
      "  copying cvxpy/reductions/eliminate_pwl/atom_canonicalizers/norm1_canon.py -> build/lib.macosx-10.7-x86_64-3.6/cvxpy/reductions/eliminate_pwl/atom_canonicalizers\n",
      "  copying cvxpy/reductions/eliminate_pwl/atom_canonicalizers/__init__.py -> build/lib.macosx-10.7-x86_64-3.6/cvxpy/reductions/eliminate_pwl/atom_canonicalizers\n",
      "  copying cvxpy/reductions/eliminate_pwl/atom_canonicalizers/cumsum_canon.py -> build/lib.macosx-10.7-x86_64-3.6/cvxpy/reductions/eliminate_pwl/atom_canonicalizers\n",
      "  copying cvxpy/reductions/eliminate_pwl/atom_canonicalizers/max_canon.py -> build/lib.macosx-10.7-x86_64-3.6/cvxpy/reductions/eliminate_pwl/atom_canonicalizers\n",
      "  copying cvxpy/reductions/eliminate_pwl/atom_canonicalizers/maximum_canon.py -> build/lib.macosx-10.7-x86_64-3.6/cvxpy/reductions/eliminate_pwl/atom_canonicalizers\n",
      "  copying cvxpy/reductions/eliminate_pwl/atom_canonicalizers/minimum_canon.py -> build/lib.macosx-10.7-x86_64-3.6/cvxpy/reductions/eliminate_pwl/atom_canonicalizers\n",
      "  copying cvxpy/reductions/eliminate_pwl/atom_canonicalizers/sum_largest_canon.py -> build/lib.macosx-10.7-x86_64-3.6/cvxpy/reductions/eliminate_pwl/atom_canonicalizers\n",
      "  copying cvxpy/reductions/eliminate_pwl/atom_canonicalizers/norm_inf_canon.py -> build/lib.macosx-10.7-x86_64-3.6/cvxpy/reductions/eliminate_pwl/atom_canonicalizers\n",
      "  copying cvxpy/reductions/eliminate_pwl/atom_canonicalizers/min_canon.py -> build/lib.macosx-10.7-x86_64-3.6/cvxpy/reductions/eliminate_pwl/atom_canonicalizers\n",
      "  copying cvxpy/reductions/eliminate_pwl/atom_canonicalizers/abs_canon.py -> build/lib.macosx-10.7-x86_64-3.6/cvxpy/reductions/eliminate_pwl/atom_canonicalizers\n",
      "  copying cvxpy/reductions/eliminate_pwl/atom_canonicalizers/cummax_canon.py -> build/lib.macosx-10.7-x86_64-3.6/cvxpy/reductions/eliminate_pwl/atom_canonicalizers\n",
      "  creating build/lib.macosx-10.7-x86_64-3.6/examples/advanced\n",
      "  copying examples/advanced/circuits.py -> build/lib.macosx-10.7-x86_64-3.6/examples/advanced\n",
      "  copying examples/advanced/xpress_example.py -> build/lib.macosx-10.7-x86_64-3.6/examples/advanced\n",
      "  copying examples/advanced/numpy_test.py -> build/lib.macosx-10.7-x86_64-3.6/examples/advanced\n",
      "  copying examples/advanced/__init__.py -> build/lib.macosx-10.7-x86_64-3.6/examples/advanced\n",
      "  copying examples/advanced/test.py -> build/lib.macosx-10.7-x86_64-3.6/examples/advanced\n",
      "  copying examples/advanced/acent.py -> build/lib.macosx-10.7-x86_64-3.6/examples/advanced\n",
      "  copying examples/advanced/cheshire_tomography.py -> build/lib.macosx-10.7-x86_64-3.6/examples/advanced\n",
      "  copying examples/advanced/stock_tradeoff.py -> build/lib.macosx-10.7-x86_64-3.6/examples/advanced\n",
      "  copying examples/advanced/optimal_control.py -> build/lib.macosx-10.7-x86_64-3.6/examples/advanced\n",
      "  copying examples/advanced/image_processing.py -> build/lib.macosx-10.7-x86_64-3.6/examples/advanced\n",
      "  creating build/lib.macosx-10.7-x86_64-3.6/examples/flows\n",
      "  copying examples/flows/commodity_flow.py -> build/lib.macosx-10.7-x86_64-3.6/examples/flows\n",
      "  copying examples/flows/incidence_matrix.py -> build/lib.macosx-10.7-x86_64-3.6/examples/flows\n",
      "  copying examples/flows/create_graph.py -> build/lib.macosx-10.7-x86_64-3.6/examples/flows\n",
      "  copying examples/flows/__init__.py -> build/lib.macosx-10.7-x86_64-3.6/examples/flows\n",
      "  copying examples/flows/leaky_edges.py -> build/lib.macosx-10.7-x86_64-3.6/examples/flows\n",
      "  copying examples/flows/max_flow.py -> build/lib.macosx-10.7-x86_64-3.6/examples/flows\n",
      "  running build_ext\n",
      "  building '_cvxcore' extension\n",
      "  creating build/temp.macosx-10.7-x86_64-3.6\n",
      "  creating build/temp.macosx-10.7-x86_64-3.6/cvxpy\n",
      "  creating build/temp.macosx-10.7-x86_64-3.6/cvxpy/cvxcore\n",
      "  creating build/temp.macosx-10.7-x86_64-3.6/cvxpy/cvxcore/src\n",
      "  creating build/temp.macosx-10.7-x86_64-3.6/cvxpy/cvxcore/python\n",
      "  gcc -Wno-unused-result -Wsign-compare -Wunreachable-code -DNDEBUG -g -fwrapv -O3 -Wall -Wstrict-prototypes -I/opt/anaconda3/envs/learn-env/include -arch x86_64 -I/opt/anaconda3/envs/learn-env/include -arch x86_64 -Icvxpy/cvxcore/src/ -Icvxpy/cvxcore/python/ -Icvxpy/cvxcore/include/ -I/opt/anaconda3/envs/learn-env/include/python3.6m -I/private/var/folders/2q/71g07jvs3kj92z2fzw_1glp40000gn/T/pip-build-env-bdvrtq0s/overlay/lib/python3.6/site-packages/numpy/core/include -c cvxpy/cvxcore/src/cvxcore.cpp -o build/temp.macosx-10.7-x86_64-3.6/cvxpy/cvxcore/src/cvxcore.o -O3 -std=c++11\n",
      "  xcode-select: note: no developer tools were found at '/Applications/Xcode.app', requesting install. Choose an option in the dialog to download the command line developer tools.\n",
      "  /private/var/folders/2q/71g07jvs3kj92z2fzw_1glp40000gn/T/pip-build-env-bdvrtq0s/overlay/lib/python3.6/site-packages/setuptools/dist.py:637: UserWarning: Usage of dash-separated 'max-line-length' will not be supported in future versions. Please use the underscore name 'max_line_length' instead\n",
      "    % (opt, underscore_opt))\n",
      "  error: command 'gcc' failed with exit status 1\n",
      "  ----------------------------------------\u001b[0m\n",
      "\u001b[31m  ERROR: Failed building wheel for cvxpy\u001b[0m\n"
     ]
    },
    {
     "name": "stdout",
     "output_type": "stream",
     "text": [
      "\u001b[?25h  Building wheel for scs (setup.py) ... \u001b[?25lerror\n",
      "\u001b[31m  ERROR: Command errored out with exit status 1:\n",
      "   command: /opt/anaconda3/envs/learn-env/bin/python3.6 -u -c 'import sys, setuptools, tokenize; sys.argv[0] = '\"'\"'/private/var/folders/2q/71g07jvs3kj92z2fzw_1glp40000gn/T/pip-install-rs51fvvu/scs/setup.py'\"'\"'; __file__='\"'\"'/private/var/folders/2q/71g07jvs3kj92z2fzw_1glp40000gn/T/pip-install-rs51fvvu/scs/setup.py'\"'\"';f=getattr(tokenize, '\"'\"'open'\"'\"', open)(__file__);code=f.read().replace('\"'\"'\\r\\n'\"'\"', '\"'\"'\\n'\"'\"');f.close();exec(compile(code, __file__, '\"'\"'exec'\"'\"'))' bdist_wheel -d /private/var/folders/2q/71g07jvs3kj92z2fzw_1glp40000gn/T/pip-wheel-ywf76iq9\n",
      "       cwd: /private/var/folders/2q/71g07jvs3kj92z2fzw_1glp40000gn/T/pip-install-rs51fvvu/scs/\n",
      "  Complete output (59 lines):\n",
      "  Namespace(blas64=False, extraverbose=False, float32=False, gpu=False, int32=False, scs=False)\n",
      "  running bdist_wheel\n",
      "  running build\n",
      "  running build_py\n",
      "  creating build\n",
      "  creating build/lib.macosx-10.7-x86_64-3.6\n",
      "  creating build/lib.macosx-10.7-x86_64-3.6/scs\n",
      "  copying src/__init__.py -> build/lib.macosx-10.7-x86_64-3.6/scs\n",
      "  running build_ext\n",
      "  blas_mkl_info:\n",
      "      libraries = ['mkl_rt', 'pthread']\n",
      "      library_dirs = ['/opt/anaconda3/envs/learn-env/lib']\n",
      "      define_macros = [('SCIPY_MKL_H', None), ('HAVE_CBLAS', None)]\n",
      "      include_dirs = ['/opt/anaconda3/envs/learn-env/include']\n",
      "  blas_opt_info:\n",
      "      libraries = ['mkl_rt', 'pthread']\n",
      "      library_dirs = ['/opt/anaconda3/envs/learn-env/lib']\n",
      "      define_macros = [('SCIPY_MKL_H', None), ('HAVE_CBLAS', None)]\n",
      "      include_dirs = ['/opt/anaconda3/envs/learn-env/include']\n",
      "  lapack_mkl_info:\n",
      "      libraries = ['mkl_rt', 'pthread']\n",
      "      library_dirs = ['/opt/anaconda3/envs/learn-env/lib']\n",
      "      define_macros = [('SCIPY_MKL_H', None), ('HAVE_CBLAS', None)]\n",
      "      include_dirs = ['/opt/anaconda3/envs/learn-env/include']\n",
      "  lapack_opt_info:\n",
      "      libraries = ['mkl_rt', 'pthread']\n",
      "      library_dirs = ['/opt/anaconda3/envs/learn-env/lib']\n",
      "      define_macros = [('SCIPY_MKL_H', None), ('HAVE_CBLAS', None)]\n",
      "      include_dirs = ['/opt/anaconda3/envs/learn-env/include']\n",
      "  {'libraries': ['mkl_rt', 'pthread'], 'library_dirs': ['/opt/anaconda3/envs/learn-env/lib'], 'define_macros': [('SCIPY_MKL_H', None), ('HAVE_CBLAS', None)], 'include_dirs': ['/opt/anaconda3/envs/learn-env/include']}\n",
      "  {'libraries': ['mkl_rt', 'pthread'], 'library_dirs': ['/opt/anaconda3/envs/learn-env/lib'], 'define_macros': [('SCIPY_MKL_H', None), ('HAVE_CBLAS', None)], 'include_dirs': ['/opt/anaconda3/envs/learn-env/include']}\n",
      "  xcode-select: note: no developer tools were found at '/Applications/Xcode.app', requesting install. Choose an option in the dialog to download the command line developer tools.\n",
      "  xcode-select: note: no developer tools were found at '/Applications/Xcode.app', requesting install. Choose an option in the dialog to download the command line developer tools.\n",
      "  xcode-select: note: no developer tools were found at '/Applications/Xcode.app', requesting install. Choose an option in the dialog to download the command line developer tools.\n",
      "  xcode-select: note: no developer tools were found at '/Applications/Xcode.app', requesting install. Choose an option in the dialog to download the command line developer tools.\n",
      "  xcode-select: note: no developer tools were found at '/Applications/Xcode.app', requesting install. Choose an option in the dialog to download the command line developer tools.\n",
      "  xcode-select: note: no developer tools were found at '/Applications/Xcode.app', requesting install. Choose an option in the dialog to download the command line developer tools.\n",
      "  xcode-select: note: no developer tools were found at '/Applications/Xcode.app', requesting install. Choose an option in the dialog to download the command line developer tools.\n",
      "  xcode-select: note: no developer tools were found at '/Applications/Xcode.app', requesting install. Choose an option in the dialog to download the command line developer tools.\n",
      "  xcode-select: note: no developer tools were found at '/Applications/Xcode.app', requesting install. Choose an option in the dialog to download the command line developer tools.\n",
      "  xcode-select: note: no developer tools were found at '/Applications/Xcode.app', requesting install. Choose an option in the dialog to download the command line developer tools.\n",
      "  xcode-select: note: no developer tools were found at '/Applications/Xcode.app', requesting install. Choose an option in the dialog to download the command line developer tools.\n",
      "  xcode-select: note: no developer tools were found at '/Applications/Xcode.app', requesting install. Choose an option in the dialog to download the command line developer tools.\n",
      "  xcode-select: note: no developer tools were found at '/Applications/Xcode.app', requesting install. Choose an option in the dialog to download the command line developer tools.\n",
      "  xcode-select: note: no developer tools were found at '/Applications/Xcode.app', requesting install. Choose an option in the dialog to download the command line developer tools.\n",
      "  xcode-select: note: no developer tools were found at '/Applications/Xcode.app', requesting install. Choose an option in the dialog to download the command line developer tools.\n",
      "  xcode-select: note: no developer tools were found at '/Applications/Xcode.app', requesting install. Choose an option in the dialog to download the command line developer tools.\n",
      "  xcode-select: note: no developer tools were found at '/Applications/Xcode.app', requesting install. Choose an option in the dialog to download the command line developer tools.\n",
      "  xcode-select: note: no developer tools were found at '/Applications/Xcode.app', requesting install. Choose an option in the dialog to download the command line developer tools.\n",
      "  xcode-select: note: no developer tools were found at '/Applications/Xcode.app', requesting install. Choose an option in the dialog to download the command line developer tools.\n",
      "  xcode-select: note: no developer tools were found at '/Applications/Xcode.app', requesting install. Choose an option in the dialog to download the command line developer tools.\n",
      "  xcode-select: note: no developer tools were found at '/Applications/Xcode.app', requesting install. Choose an option in the dialog to download the command line developer tools.\n",
      "  xcode-select: note: no developer tools were found at '/Applications/Xcode.app', requesting install. Choose an option in the dialog to download the command line developer tools.\n",
      "  xcode-select: note: no developer tools were found at '/Applications/Xcode.app', requesting install. Choose an option in the dialog to download the command line developer tools.\n",
      "  xcode-select: note: no developer tools were found at '/Applications/Xcode.app', requesting install. Choose an option in the dialog to download the command line developer tools.\n",
      "  xcode-select: note: no developer tools were found at '/Applications/Xcode.app', requesting install. Choose an option in the dialog to download the command line developer tools.\n",
      "  xcode-select: note: no developer tools were found at '/Applications/Xcode.app', requesting install. Choose an option in the dialog to download the command line developer tools.\n",
      "  xcode-select: note: no developer tools were found at '/Applications/Xcode.app', requesting install. Choose an option in the dialog to download the command line developer tools.\n",
      "  error: Command \"gcc -Wno-unused-result -Wsign-compare -Wunreachable-code -DNDEBUG -g -fwrapv -O3 -Wall -Wstrict-prototypes -I/opt/anaconda3/envs/learn-env/include -arch x86_64 -I/opt/anaconda3/envs/learn-env/include -arch x86_64 -DPYTHON -DCTRLC=1 -DDLONG=1 -DCOPYAMATRIX -DUSE_LAPACK -DSCIPY_MKL_H -DHAVE_CBLAS -DSCIPY_MKL_H -DHAVE_CBLAS -Iscs/include -Iscs/linsys -Iscs/linsys/cpu/direct/ -Iscs/linsys/external/amd -Iscs/linsys/external/dqlql -I/opt/anaconda3/envs/learn-env/lib/python3.6/site-packages/numpy/core/include -I/opt/anaconda3/envs/learn-env/include -I/opt/anaconda3/envs/learn-env/include -I/opt/anaconda3/envs/learn-env/include/python3.6m -c scs/src/util.c -o build/temp.macosx-10.7-x86_64-3.6/scs/src/util.o -O3\" failed with exit status 1\n",
      "  ----------------------------------------\u001b[0m\n",
      "\u001b[31m  ERROR: Failed building wheel for scs\u001b[0m\n",
      "\u001b[?25h  Running setup.py clean for scs\n"
     ]
    },
    {
     "name": "stdout",
     "output_type": "stream",
     "text": [
      "Failed to build cvxpy scs\r\n",
      "\u001b[31mERROR: Could not build wheels for cvxpy which use PEP 517 and cannot be installed directly\u001b[0m\r\n"
     ]
    }
   ],
   "source": [
    "!pip install cvxpy"
   ]
  },
  {
   "cell_type": "markdown",
   "metadata": {},
   "source": [
    "## Build a Max Margin classifier\n",
    "\n",
    "Since you are aiming to maximize the margin between the decision boundary and the support vectors, creating a support vector machine boils down to solving a convex optimization problem. As such, you can use the Python library `cvxpy` to do so. More information can be found [here](http://www.cvxpy.org/).\n",
    "\n",
    "You may have not used `cvxpy` before, so make sure it is installed on your local computer using `pip install cvxpy`.\n",
    "\n",
    "The four important commands to be used here are:\n",
    "\n",
    "- `cp.Variable()` where you either don't include anything between `()` or, if the variable is an array with multiple elements, the number of elements.\n",
    "- `cp.Minimize()` or `cp.Maximize()`, with the element to be maximized passed in as a paramater.\n",
    "- `cp.Problem(objective, constraints)`, the objective is generally a stored minimization or maximization objective, and the constraints are listed constraints. Constraints can be added by a \"+\" sign. \n",
    "- Next, you should store your `cp.Problem` in an object and use `object.solve()` to solve the optimization problem."
   ]
  },
  {
   "cell_type": "markdown",
   "metadata": {},
   "source": [
    "Recall that we're trying to solve this problem:\n",
    "\n",
    "$ w x^{(i)} + b \\geq 1$  if $y ^{(i)} = 1$\n",
    "\n",
    "$ w x^{(i)} + b \\leq -1$  if $y ^{(i)} = -1$\n",
    "\n",
    "And, the objective function you're maximizing is $\\dfrac{2}{\\lVert w \\rVert}$. To make things easier, you can instead minimize $\\lVert w \\rVert$"
   ]
  },
  {
   "cell_type": "markdown",
   "metadata": {},
   "source": [
    "Note that $y^{(i)}$ is the class label. Take a look at the labels by printing them below."
   ]
  },
  {
   "cell_type": "code",
   "execution_count": 3,
   "metadata": {},
   "outputs": [
    {
     "data": {
      "text/plain": [
       "array([0, 0, 0, 1, 0, 1, 0, 0, 1, 0, 1, 1, 0, 0, 1, 0, 0, 1, 1, 0, 0, 1,\n",
       "       1, 0, 1, 0, 1, 0, 0, 0, 0, 0, 0, 1, 0, 0, 0, 1, 1, 0, 1, 0, 1, 1,\n",
       "       1, 1, 0, 0, 1, 0, 0, 0, 1, 1, 1, 0, 0, 1, 1, 1, 0, 0, 1, 1, 1, 1,\n",
       "       0, 1, 0, 1, 1, 0, 0, 1, 0, 1, 0, 1, 0, 1, 1, 0, 1, 1, 0, 0, 1, 1,\n",
       "       1, 0, 1, 1, 0, 0, 1, 1, 0, 1, 1, 0])"
      ]
     },
     "execution_count": 3,
     "metadata": {},
     "output_type": "execute_result"
    }
   ],
   "source": [
    "# Print labels\n",
    "labels"
   ]
  },
  {
   "cell_type": "markdown",
   "metadata": {},
   "source": [
    "Before you start to write down the optimization problem, split the data in the two classes. Name them `class_1` and `class_2`."
   ]
  },
  {
   "cell_type": "code",
   "execution_count": 4,
   "metadata": {},
   "outputs": [],
   "source": [
    "# Assign label 0 to class_1\n",
    "class_1 = X[labels == 0]\n",
    "\n",
    "# Assign label 1 to class_2\n",
    "class_2 = X[labels == 1]"
   ]
  },
  {
   "cell_type": "markdown",
   "metadata": {},
   "source": [
    "Next, you need to find a way to create a hyperplane (in this case, a line) that can maximize the difference between the two classes. \n",
    "Here's a pseudocode outline:\n",
    "- First, `import cvxpy as cp`\n",
    "- Next, define the variables. note that `b` and `w` are variables (What are the dimensions?)\n",
    "- Then, build the constraints (You have two constraints here)\n",
    "- After that, use \"+\" to group the constraints together\n",
    "- The next step is to define the objective function\n",
    "- After that, define the problem using `cp.Problem()`\n",
    "- Solve the problem using `.solve()`\n",
    "- Finally, print the problem status (however you defined the problem, and attach `.status`) "
   ]
  },
  {
   "cell_type": "code",
   "execution_count": 5,
   "metadata": {},
   "outputs": [
    {
     "ename": "ModuleNotFoundError",
     "evalue": "No module named 'cvxpy'",
     "output_type": "error",
     "traceback": [
      "\u001b[0;31m---------------------------------------------------------------------------\u001b[0m",
      "\u001b[0;31mModuleNotFoundError\u001b[0m                       Traceback (most recent call last)",
      "\u001b[0;32m<ipython-input-5-6bafdaed2af2>\u001b[0m in \u001b[0;36m<module>\u001b[0;34m()\u001b[0m\n\u001b[1;32m      1\u001b[0m \u001b[0;31m# Import cvxpy\u001b[0m\u001b[0;34m\u001b[0m\u001b[0;34m\u001b[0m\u001b[0;34m\u001b[0m\u001b[0m\n\u001b[0;32m----> 2\u001b[0;31m \u001b[0;32mimport\u001b[0m \u001b[0mcvxpy\u001b[0m \u001b[0;32mas\u001b[0m \u001b[0mcp\u001b[0m\u001b[0;34m\u001b[0m\u001b[0;34m\u001b[0m\u001b[0m\n\u001b[0m\u001b[1;32m      3\u001b[0m \u001b[0;34m\u001b[0m\u001b[0m\n\u001b[1;32m      4\u001b[0m \u001b[0;31m# Define the variables\u001b[0m\u001b[0;34m\u001b[0m\u001b[0;34m\u001b[0m\u001b[0;34m\u001b[0m\u001b[0m\n\u001b[1;32m      5\u001b[0m \u001b[0;34m\u001b[0m\u001b[0m\n",
      "\u001b[0;31mModuleNotFoundError\u001b[0m: No module named 'cvxpy'"
     ]
    }
   ],
   "source": [
    "import cvxpy as cp\n",
    "\n",
    "d = 2  \n",
    "m = 50 \n",
    "n = 50  \n",
    "\n",
    "# Define the variables\n",
    "w = cp.Variable(d)\n",
    "b = cp.Variable()\n",
    "\n",
    "# Define the constraints\n",
    "x_constraints = [w.T * class_1[i] + b >= 1  for i in range(m)]\n",
    "y_constraints = [w.T * class_2[i] + b <= -1 for i in range(n)]\n",
    "\n",
    "# Sum the constraints\n",
    "constraints = x_constraints +  y_constraints \n",
    "\n",
    "# Define the objective. Hint: use cp.norm\n",
    "obj = cp.Minimize(cp.norm(w, 2))\n",
    "\n",
    "# Add objective and constraint in the problem\n",
    "prob = cp.Problem(obj, constraints)\n",
    "\n",
    "# Solve the problem\n",
    "prob.solve()\n",
    "print('Problem Status: %s'%prob.status)"
   ]
  },
  {
   "cell_type": "markdown",
   "metadata": {},
   "source": [
    "Great! Below is a helper function to assist you in plotting the result of your SVM classifier."
   ]
  },
  {
   "cell_type": "code",
   "execution_count": null,
   "metadata": {},
   "outputs": [],
   "source": [
    "## A helper function for plotting the results, the decision plane, and the supporting planes\n",
    "\n",
    "def plotBoundaries(x, y, w, b):\n",
    "    # Takes in a set of datapoints x and y for two clusters,\n",
    "    d1_min = np.min([x[:,0], y[:,0]])\n",
    "    d1_max = np.max([x[:,0], y[:,0]])\n",
    "    # Line form: (-a[0] * x - b ) / a[1]\n",
    "    d2_at_mind1 = (-w[0]*d1_min - b ) / w[1]\n",
    "    d2_at_maxd1 = (-w[0]*d1_max - b ) / w[1]\n",
    "    sup_up_at_mind1 = (-w[0]*d1_min - b + 1 ) / w[1]\n",
    "    sup_up_at_maxd1 = (-w[0]*d1_max - b + 1 ) / w[1]\n",
    "    sup_dn_at_mind1 = (-w[0]*d1_min - b - 1 ) / w[1]\n",
    "    sup_dn_at_maxd1 = (-w[0]*d1_max - b - 1 ) / w[1]\n",
    "\n",
    "    # Plot the clusters!\n",
    "    plt.scatter(x[:,0], x[:,1], color='purple')\n",
    "    plt.scatter(y[:,0], y[:,1], color='yellow')\n",
    "    plt.plot([d1_min,d1_max], [d2_at_mind1, d2_at_maxd1], color='black')\n",
    "    plt.plot([d1_min,d1_max], [sup_up_at_mind1, sup_up_at_maxd1],'-.', color='blue')\n",
    "    plt.plot([d1_min,d1_max], [sup_dn_at_mind1, sup_dn_at_maxd1],'-.', color='blue')\n",
    "    plt.ylim([np.floor(np.min([x[:,1],y[:,1]])), np.ceil(np.max([x[:,1], y[:,1]]))])"
   ]
  },
  {
   "cell_type": "markdown",
   "metadata": {},
   "source": [
    "Use the helper function to plot your result. To get the values of `w` and `b`, use the `.value` attribute. "
   ]
  },
  {
   "cell_type": "code",
   "execution_count": null,
   "metadata": {},
   "outputs": [],
   "source": [
    "w = w.value\n",
    "b = b.value"
   ]
  },
  {
   "cell_type": "code",
   "execution_count": null,
   "metadata": {},
   "outputs": [],
   "source": [
    "# Plot \n",
    "plotBoundaries(class_1, class_2, w, b)"
   ]
  },
  {
   "cell_type": "markdown",
   "metadata": {},
   "source": [
    "## A more complex problem"
   ]
  },
  {
   "cell_type": "markdown",
   "metadata": {},
   "source": [
    "Now, take a look at another problem by running the code below. This example will be a little trickier as the two classes are not perfectly linearly separable."
   ]
  },
  {
   "cell_type": "code",
   "execution_count": 6,
   "metadata": {},
   "outputs": [
    {
     "data": {
      "image/png": "[encoded data removed]",
      "text/plain": [
       "<Figure size 360x360 with 1 Axes>"
      ]
     },
     "metadata": {
      "needs_background": "light"
     },
     "output_type": "display_data"
    }
   ],
   "source": [
    "plt.figure(figsize=(5, 5))\n",
    "\n",
    "plt.title('Two blobs')\n",
    "X, labels = make_blobs(n_features=2, centers=2, cluster_std=3,  random_state=123)\n",
    "plt.scatter(X[:, 0], X[:, 1], c=labels, s=25);"
   ]
  },
  {
   "cell_type": "markdown",
   "metadata": {},
   "source": [
    "Copy your optimization code from the Max Margin Classifier and look at the problem status. What do you see?"
   ]
  },
  {
   "cell_type": "code",
   "execution_count": null,
   "metadata": {},
   "outputs": [],
   "source": [
    "# Copy the optimization code from above \n",
    "\n",
    "class_1 = X[labels == 0]\n",
    "class_2 = X[labels == 1]\n",
    "\n",
    "d = 2  \n",
    "m = 50 \n",
    "n = 50  \n",
    "\n",
    "# Define the variables\n",
    "w = cp.Variable(d)\n",
    "b = cp.Variable()\n",
    "\n",
    "# Define the constraints\n",
    "x_constraints = [w.T * class_1[i] + b >= 1  for i in range(m)]\n",
    "y_constraints = [w.T * class_2[i] + b <= -1 for i in range(n)]\n",
    "\n",
    "# Sum the constraints\n",
    "constraints = x_constraints +  y_constraints \n",
    "\n",
    "# Define the objective. Hint: use cp.norm\n",
    "obj = cp.Minimize(cp.norm(w,2))\n",
    "\n",
    "# Add objective and constraint in the problem\n",
    "prob = cp.Problem(obj, constraints)\n",
    "\n",
    "# Solve the problem\n",
    "prob.solve()\n",
    "print('Problem Status: %s'%prob.status)\n",
    "\n",
    "# Problem Status: infeasible"
   ]
  },
  {
   "cell_type": "markdown",
   "metadata": {},
   "source": [
    "### What's happening?"
   ]
  },
  {
   "cell_type": "markdown",
   "metadata": {},
   "source": [
    "The problem status is \"infeasible\". In other words, the problem is not linearly separable, and it is impossible to draw one straight line that separates the two classes."
   ]
  },
  {
   "cell_type": "markdown",
   "metadata": {},
   "source": [
    "## Build a Soft Margin classifier\n",
    "\n",
    "To solve this problem, you'll need to \"relax\" your constraints and allow for items that are not correctly classified. This is where the Soft Margin classifier comes in! As a refresher, this is the formulation for the Soft Margin classifier:\n",
    "\n",
    "$$ b + w_Tx^{(i)} \\geq 1-\\xi^{(i)}  \\text{     if     } y ^{(i)} = 1$$\n",
    "\n",
    "$$ b + w_Tx^{(i)} \\leq -1+\\xi^{(i)}  \\text{     if     } y ^{(i)} = -1$$\n",
    "\n",
    "\n",
    "The objective function is \n",
    "\n",
    " $$\\dfrac{1}{2}\\lVert w \\rVert^2+ C(\\sum_i \\xi^{(i)})$$\n",
    " \n",
    "Use the code for the SVM optimization again, but adjust for the slack parameters $\\xi$ (ksi or xi).\n",
    " \n",
    "Some important things to note:\n",
    "- Every $\\xi$ needs to be positive, that should be added as constraints\n",
    "- Your objective needs to be changed as well\n",
    "- Allow for a \"hyperparameter\" $C$ which you set to 1 at first and you can change accordingly. Describe how your result changes \n"
   ]
  },
  {
   "cell_type": "code",
   "execution_count": 7,
   "metadata": {},
   "outputs": [
    {
     "data": {
      "image/png": "[encoded data removed]",
      "text/plain": [
       "<Figure size 360x360 with 1 Axes>"
      ]
     },
     "metadata": {
      "needs_background": "light"
     },
     "output_type": "display_data"
    }
   ],
   "source": [
    "plt.figure(figsize=(5, 5))\n",
    "\n",
    "plt.title('Two blobs')\n",
    "X, labels = make_blobs(n_features=2, centers=2, cluster_std=3,  random_state=123)\n",
    "plt.scatter(X[:, 0], X[:, 1], c=labels, s=25);"
   ]
  },
  {
   "cell_type": "code",
   "execution_count": null,
   "metadata": {},
   "outputs": [],
   "source": [
    "# Reassign the class labels\n",
    "class_1 = X[labels == 0]\n",
    "class_2 = X[labels == 1]"
   ]
  },
  {
   "cell_type": "code",
   "execution_count": null,
   "metadata": {},
   "outputs": [],
   "source": [
    "d = 2  \n",
    "m = 50 \n",
    "n = 50  \n",
    "\n",
    "# Define the variables\n",
    "w = cp.Variable(d)\n",
    "b = cp.Variable()\n",
    "ksi_1 = cp.Variable(m)\n",
    "ksi_2 = cp.Variable(n)\n",
    "\n",
    "C=0.01\n",
    "\n",
    "# Define the constraints\n",
    "x_constraints = [w.T * class_1[i] + b >= 1 - ksi_1[i]  for i in range(m)]\n",
    "y_constraints = [w.T * class_2[i] + b <= -1 + ksi_2[i] for i in range(n)]\n",
    "ksi_1_constraints = [ksi_1 >= 0  for i in range(m)]\n",
    "ksi_2_constraints = [ksi_2 >= 0  for i in range(n)]\n",
    "\n",
    "# Sum the constraints\n",
    "constraints = x_constraints +  y_constraints + ksi_1_constraints + ksi_2_constraints\n",
    "\n",
    "# Define the objective. Hint: use cp.norm. Add in a C hyperparameter and assume 1 at first\n",
    "obj = cp.Minimize(cp.norm(w,2) + C * (sum(ksi_1) + sum(ksi_2)))\n",
    "\n",
    "# Add objective and constraint in the problem\n",
    "prob = cp.Problem(obj, constraints)\n",
    "\n",
    "# Solve the problem\n",
    "prob.solve()\n",
    "print('Problem Status: %s'%prob.status)"
   ]
  },
  {
   "cell_type": "markdown",
   "metadata": {},
   "source": [
    "Plot your result again."
   ]
  },
  {
   "cell_type": "code",
   "execution_count": null,
   "metadata": {},
   "outputs": [],
   "source": [
    "# Your code here\n",
    "w = w.value\n",
    "b = b.value\n",
    "plotBoundaries(class_1, class_2, w, b)"
   ]
  },
  {
   "cell_type": "markdown",
   "metadata": {},
   "source": [
    "Now go ahead and experiment with the hyperparameter $C$ (making it both larger and smaller than 1). What do you see?"
   ]
  },
  {
   "cell_type": "markdown",
   "metadata": {},
   "source": [
    "## Summary"
   ]
  },
  {
   "cell_type": "markdown",
   "metadata": {},
   "source": [
    "Great! You now understand the rationale behind support vector machines. Wouldn't it be great to have a library that did this for you? Well, you're lucky: scikit-learn has an SVM module that automates all of this. In the next lab, you'll take a look at using this pre-built SVM tool!"
   ]
  }
 ],
 "metadata": {
  "kernelspec": {
   "display_name": "Python 3",
   "language": "python",
   "name": "python3"
  },
  "language_info": {
   "codemirror_mode": {
    "name": "ipython",
    "version": 3
   },
   "file_extension": ".py",
   "mimetype": "text/x-python",
   "name": "python",
   "nbconvert_exporter": "python",
   "pygments_lexer": "ipython3",
   "version": "3.6.9"
  }
 },
 "nbformat": 4,
 "nbformat_minor": 2
}
